{
 "cells": [
  {
   "cell_type": "markdown",
   "metadata": {},
   "source": [
    "## Ford GoBike System Data:"
   ]
  },
  {
   "cell_type": "markdown",
   "metadata": {},
   "source": [
    "## Introduction:"
   ]
  },
  {
   "cell_type": "markdown",
   "metadata": {},
   "source": [
    "##### In this project we will look at the Ford GoBike System Data.This dataset includes information about individual rides made in a bike-sharing system covering the greater San Francisco Bay area in  jaunary 2019. The dataset can be downloaded from https://www.fordgobike.com/system-data. \n",
    "I will focus on these five questions. The first question is what the most day that people use a bike. The second question, What is the start time that people pick the bike. The third question is which days people use the bike for a long time. The fourth question is the top 5 station that is more people get the bike to go for a ride. The last question is looking for the customer and Subscriber which one of these two types will use the bike more frequency \n",
    "\n",
    "\n",
    "\n",
    "\n",
    "\n",
    "\n",
    "\n"
   ]
  },
  {
   "cell_type": "code",
   "execution_count": null,
   "metadata": {},
   "outputs": [],
   "source": [
    "import pandas as pd\n",
    "import numpy as np\n",
    "import matplotlib.pyplot as plt\n",
    "import seaborn as sns\n",
    "import scipy\n",
    "import requests\n",
    "import os\n",
    "import time\n",
    "import csv\n",
    "from datetime import datetime\n",
    "\n"
   ]
  },
  {
   "cell_type": "code",
   "execution_count": 2,
   "metadata": {},
   "outputs": [],
   "source": [
    "df = pd.read_csv('201901-fordgobike-tripdata.csv')"
   ]
  },
  {
   "cell_type": "code",
   "execution_count": 3,
   "metadata": {},
   "outputs": [
    {
     "data": {
      "text/html": [
       "<div>\n",
       "<style scoped>\n",
       "    .dataframe tbody tr th:only-of-type {\n",
       "        vertical-align: middle;\n",
       "    }\n",
       "\n",
       "    .dataframe tbody tr th {\n",
       "        vertical-align: top;\n",
       "    }\n",
       "\n",
       "    .dataframe thead th {\n",
       "        text-align: right;\n",
       "    }\n",
       "</style>\n",
       "<table border=\"1\" class=\"dataframe\">\n",
       "  <thead>\n",
       "    <tr style=\"text-align: right;\">\n",
       "      <th></th>\n",
       "      <th>duration_sec</th>\n",
       "      <th>start_time</th>\n",
       "      <th>end_time</th>\n",
       "      <th>start_station_id</th>\n",
       "      <th>start_station_name</th>\n",
       "      <th>start_station_latitude</th>\n",
       "      <th>start_station_longitude</th>\n",
       "      <th>end_station_id</th>\n",
       "      <th>end_station_name</th>\n",
       "      <th>end_station_latitude</th>\n",
       "      <th>end_station_longitude</th>\n",
       "      <th>bike_id</th>\n",
       "      <th>user_type</th>\n",
       "      <th>bike_share_for_all_trip</th>\n",
       "    </tr>\n",
       "  </thead>\n",
       "  <tbody>\n",
       "    <tr>\n",
       "      <th>48856</th>\n",
       "      <td>812</td>\n",
       "      <td>2019-01-25 20:08:48.0890</td>\n",
       "      <td>2019-01-25 20:22:21.0470</td>\n",
       "      <td>16.0</td>\n",
       "      <td>Steuart St at Market St</td>\n",
       "      <td>37.794130</td>\n",
       "      <td>-122.394430</td>\n",
       "      <td>364.0</td>\n",
       "      <td>China Basin St at 3rd St</td>\n",
       "      <td>37.772000</td>\n",
       "      <td>-122.389970</td>\n",
       "      <td>4435</td>\n",
       "      <td>Subscriber</td>\n",
       "      <td>No</td>\n",
       "    </tr>\n",
       "    <tr>\n",
       "      <th>20968</th>\n",
       "      <td>2066</td>\n",
       "      <td>2019-01-29 17:42:55.1260</td>\n",
       "      <td>2019-01-29 18:17:21.1930</td>\n",
       "      <td>41.0</td>\n",
       "      <td>Golden Gate Ave at Polk St</td>\n",
       "      <td>37.781270</td>\n",
       "      <td>-122.418740</td>\n",
       "      <td>74.0</td>\n",
       "      <td>Laguna St at Hayes St</td>\n",
       "      <td>37.776435</td>\n",
       "      <td>-122.426244</td>\n",
       "      <td>4671</td>\n",
       "      <td>Subscriber</td>\n",
       "      <td>No</td>\n",
       "    </tr>\n",
       "    <tr>\n",
       "      <th>169334</th>\n",
       "      <td>273</td>\n",
       "      <td>2019-01-05 19:20:31.6140</td>\n",
       "      <td>2019-01-05 19:25:04.8200</td>\n",
       "      <td>90.0</td>\n",
       "      <td>Townsend St at 7th St</td>\n",
       "      <td>37.771058</td>\n",
       "      <td>-122.402717</td>\n",
       "      <td>62.0</td>\n",
       "      <td>Victoria Manalo Draves Park</td>\n",
       "      <td>37.777791</td>\n",
       "      <td>-122.406432</td>\n",
       "      <td>1700</td>\n",
       "      <td>Subscriber</td>\n",
       "      <td>No</td>\n",
       "    </tr>\n",
       "    <tr>\n",
       "      <th>73220</th>\n",
       "      <td>1117</td>\n",
       "      <td>2019-01-23 08:49:33.9100</td>\n",
       "      <td>2019-01-23 09:08:10.9870</td>\n",
       "      <td>141.0</td>\n",
       "      <td>Valencia St at Cesar Chavez St</td>\n",
       "      <td>37.747998</td>\n",
       "      <td>-122.420219</td>\n",
       "      <td>66.0</td>\n",
       "      <td>3rd St at Townsend St</td>\n",
       "      <td>37.778742</td>\n",
       "      <td>-122.392741</td>\n",
       "      <td>5298</td>\n",
       "      <td>Subscriber</td>\n",
       "      <td>No</td>\n",
       "    </tr>\n",
       "    <tr>\n",
       "      <th>121749</th>\n",
       "      <td>866</td>\n",
       "      <td>2019-01-14 15:19:56.9610</td>\n",
       "      <td>2019-01-14 15:34:23.0730</td>\n",
       "      <td>203.0</td>\n",
       "      <td>Webster St at 2nd St</td>\n",
       "      <td>37.795195</td>\n",
       "      <td>-122.273970</td>\n",
       "      <td>203.0</td>\n",
       "      <td>Webster St at 2nd St</td>\n",
       "      <td>37.795195</td>\n",
       "      <td>-122.273970</td>\n",
       "      <td>954</td>\n",
       "      <td>Subscriber</td>\n",
       "      <td>No</td>\n",
       "    </tr>\n",
       "    <tr>\n",
       "      <th>...</th>\n",
       "      <td>...</td>\n",
       "      <td>...</td>\n",
       "      <td>...</td>\n",
       "      <td>...</td>\n",
       "      <td>...</td>\n",
       "      <td>...</td>\n",
       "      <td>...</td>\n",
       "      <td>...</td>\n",
       "      <td>...</td>\n",
       "      <td>...</td>\n",
       "      <td>...</td>\n",
       "      <td>...</td>\n",
       "      <td>...</td>\n",
       "      <td>...</td>\n",
       "    </tr>\n",
       "    <tr>\n",
       "      <th>21409</th>\n",
       "      <td>441</td>\n",
       "      <td>2019-01-29 17:47:20.1820</td>\n",
       "      <td>2019-01-29 17:54:41.5100</td>\n",
       "      <td>25.0</td>\n",
       "      <td>Howard St at 2nd St</td>\n",
       "      <td>37.787522</td>\n",
       "      <td>-122.397405</td>\n",
       "      <td>30.0</td>\n",
       "      <td>San Francisco Caltrain (Townsend St at 4th St)</td>\n",
       "      <td>37.776598</td>\n",
       "      <td>-122.395282</td>\n",
       "      <td>2426</td>\n",
       "      <td>Subscriber</td>\n",
       "      <td>No</td>\n",
       "    </tr>\n",
       "    <tr>\n",
       "      <th>143043</th>\n",
       "      <td>264</td>\n",
       "      <td>2019-01-10 15:42:09.6120</td>\n",
       "      <td>2019-01-10 15:46:34.4650</td>\n",
       "      <td>163.0</td>\n",
       "      <td>Lake Merritt BART Station</td>\n",
       "      <td>37.797320</td>\n",
       "      <td>-122.265320</td>\n",
       "      <td>233.0</td>\n",
       "      <td>4th Ave at E 12th St (Temporary Location)</td>\n",
       "      <td>37.795913</td>\n",
       "      <td>-122.255547</td>\n",
       "      <td>4495</td>\n",
       "      <td>Subscriber</td>\n",
       "      <td>No</td>\n",
       "    </tr>\n",
       "    <tr>\n",
       "      <th>53905</th>\n",
       "      <td>481</td>\n",
       "      <td>2019-01-25 11:09:16.9170</td>\n",
       "      <td>2019-01-25 11:17:18.0150</td>\n",
       "      <td>5.0</td>\n",
       "      <td>Powell St BART Station (Market St at 5th St)</td>\n",
       "      <td>37.783899</td>\n",
       "      <td>-122.408445</td>\n",
       "      <td>88.0</td>\n",
       "      <td>11th St at Bryant St</td>\n",
       "      <td>37.770030</td>\n",
       "      <td>-122.411726</td>\n",
       "      <td>4614</td>\n",
       "      <td>Subscriber</td>\n",
       "      <td>No</td>\n",
       "    </tr>\n",
       "    <tr>\n",
       "      <th>29453</th>\n",
       "      <td>106</td>\n",
       "      <td>2019-01-28 19:18:23.5920</td>\n",
       "      <td>2019-01-28 19:20:09.9370</td>\n",
       "      <td>321.0</td>\n",
       "      <td>5th St at Folsom</td>\n",
       "      <td>37.780146</td>\n",
       "      <td>-122.403071</td>\n",
       "      <td>47.0</td>\n",
       "      <td>4th St at Harrison St</td>\n",
       "      <td>37.780955</td>\n",
       "      <td>-122.399749</td>\n",
       "      <td>5367</td>\n",
       "      <td>Subscriber</td>\n",
       "      <td>No</td>\n",
       "    </tr>\n",
       "    <tr>\n",
       "      <th>124480</th>\n",
       "      <td>154</td>\n",
       "      <td>2019-01-14 08:12:53.2980</td>\n",
       "      <td>2019-01-14 08:15:28.2850</td>\n",
       "      <td>144.0</td>\n",
       "      <td>Precita Park</td>\n",
       "      <td>37.747300</td>\n",
       "      <td>-122.411403</td>\n",
       "      <td>139.0</td>\n",
       "      <td>Garfield Square (25th St at Harrison St)</td>\n",
       "      <td>37.751017</td>\n",
       "      <td>-122.411901</td>\n",
       "      <td>756</td>\n",
       "      <td>Subscriber</td>\n",
       "      <td>No</td>\n",
       "    </tr>\n",
       "  </tbody>\n",
       "</table>\n",
       "<p>100 rows × 14 columns</p>\n",
       "</div>"
      ],
      "text/plain": [
       "        duration_sec                start_time                  end_time  \\\n",
       "48856            812  2019-01-25 20:08:48.0890  2019-01-25 20:22:21.0470   \n",
       "20968           2066  2019-01-29 17:42:55.1260  2019-01-29 18:17:21.1930   \n",
       "169334           273  2019-01-05 19:20:31.6140  2019-01-05 19:25:04.8200   \n",
       "73220           1117  2019-01-23 08:49:33.9100  2019-01-23 09:08:10.9870   \n",
       "121749           866  2019-01-14 15:19:56.9610  2019-01-14 15:34:23.0730   \n",
       "...              ...                       ...                       ...   \n",
       "21409            441  2019-01-29 17:47:20.1820  2019-01-29 17:54:41.5100   \n",
       "143043           264  2019-01-10 15:42:09.6120  2019-01-10 15:46:34.4650   \n",
       "53905            481  2019-01-25 11:09:16.9170  2019-01-25 11:17:18.0150   \n",
       "29453            106  2019-01-28 19:18:23.5920  2019-01-28 19:20:09.9370   \n",
       "124480           154  2019-01-14 08:12:53.2980  2019-01-14 08:15:28.2850   \n",
       "\n",
       "        start_station_id                            start_station_name  \\\n",
       "48856               16.0                       Steuart St at Market St   \n",
       "20968               41.0                    Golden Gate Ave at Polk St   \n",
       "169334              90.0                         Townsend St at 7th St   \n",
       "73220              141.0                Valencia St at Cesar Chavez St   \n",
       "121749             203.0                          Webster St at 2nd St   \n",
       "...                  ...                                           ...   \n",
       "21409               25.0                           Howard St at 2nd St   \n",
       "143043             163.0                     Lake Merritt BART Station   \n",
       "53905                5.0  Powell St BART Station (Market St at 5th St)   \n",
       "29453              321.0                              5th St at Folsom   \n",
       "124480             144.0                                  Precita Park   \n",
       "\n",
       "        start_station_latitude  start_station_longitude  end_station_id  \\\n",
       "48856                37.794130              -122.394430           364.0   \n",
       "20968                37.781270              -122.418740            74.0   \n",
       "169334               37.771058              -122.402717            62.0   \n",
       "73220                37.747998              -122.420219            66.0   \n",
       "121749               37.795195              -122.273970           203.0   \n",
       "...                        ...                      ...             ...   \n",
       "21409                37.787522              -122.397405            30.0   \n",
       "143043               37.797320              -122.265320           233.0   \n",
       "53905                37.783899              -122.408445            88.0   \n",
       "29453                37.780146              -122.403071            47.0   \n",
       "124480               37.747300              -122.411403           139.0   \n",
       "\n",
       "                                      end_station_name  end_station_latitude  \\\n",
       "48856                         China Basin St at 3rd St             37.772000   \n",
       "20968                            Laguna St at Hayes St             37.776435   \n",
       "169334                     Victoria Manalo Draves Park             37.777791   \n",
       "73220                            3rd St at Townsend St             37.778742   \n",
       "121749                            Webster St at 2nd St             37.795195   \n",
       "...                                                ...                   ...   \n",
       "21409   San Francisco Caltrain (Townsend St at 4th St)             37.776598   \n",
       "143043       4th Ave at E 12th St (Temporary Location)             37.795913   \n",
       "53905                             11th St at Bryant St             37.770030   \n",
       "29453                            4th St at Harrison St             37.780955   \n",
       "124480        Garfield Square (25th St at Harrison St)             37.751017   \n",
       "\n",
       "        end_station_longitude  bike_id   user_type bike_share_for_all_trip  \n",
       "48856             -122.389970     4435  Subscriber                      No  \n",
       "20968             -122.426244     4671  Subscriber                      No  \n",
       "169334            -122.406432     1700  Subscriber                      No  \n",
       "73220             -122.392741     5298  Subscriber                      No  \n",
       "121749            -122.273970      954  Subscriber                      No  \n",
       "...                       ...      ...         ...                     ...  \n",
       "21409             -122.395282     2426  Subscriber                      No  \n",
       "143043            -122.255547     4495  Subscriber                      No  \n",
       "53905             -122.411726     4614  Subscriber                      No  \n",
       "29453             -122.399749     5367  Subscriber                      No  \n",
       "124480            -122.411901      756  Subscriber                      No  \n",
       "\n",
       "[100 rows x 14 columns]"
      ]
     },
     "execution_count": 3,
     "metadata": {},
     "output_type": "execute_result"
    }
   ],
   "source": [
    "df.sample(100)"
   ]
  },
  {
   "cell_type": "code",
   "execution_count": 4,
   "metadata": {},
   "outputs": [
    {
     "name": "stdout",
     "output_type": "stream",
     "text": [
      "<class 'pandas.core.frame.DataFrame'>\n",
      "RangeIndex: 192082 entries, 0 to 192081\n",
      "Data columns (total 14 columns):\n",
      " #   Column                   Non-Null Count   Dtype  \n",
      "---  ------                   --------------   -----  \n",
      " 0   duration_sec             192082 non-null  int64  \n",
      " 1   start_time               192082 non-null  object \n",
      " 2   end_time                 192082 non-null  object \n",
      " 3   start_station_id         191834 non-null  float64\n",
      " 4   start_station_name       191834 non-null  object \n",
      " 5   start_station_latitude   192082 non-null  float64\n",
      " 6   start_station_longitude  192082 non-null  float64\n",
      " 7   end_station_id           191834 non-null  float64\n",
      " 8   end_station_name         191834 non-null  object \n",
      " 9   end_station_latitude     192082 non-null  float64\n",
      " 10  end_station_longitude    192082 non-null  float64\n",
      " 11  bike_id                  192082 non-null  int64  \n",
      " 12  user_type                192082 non-null  object \n",
      " 13  bike_share_for_all_trip  192082 non-null  object \n",
      "dtypes: float64(6), int64(2), object(6)\n",
      "memory usage: 20.5+ MB\n"
     ]
    }
   ],
   "source": [
    "df.info()"
   ]
  },
  {
   "cell_type": "code",
   "execution_count": 5,
   "metadata": {},
   "outputs": [
    {
     "data": {
      "text/plain": [
       "(192082, 14)"
      ]
     },
     "execution_count": 5,
     "metadata": {},
     "output_type": "execute_result"
    }
   ],
   "source": [
    "df.shape"
   ]
  },
  {
   "cell_type": "code",
   "execution_count": 6,
   "metadata": {},
   "outputs": [
    {
     "data": {
      "text/html": [
       "<div>\n",
       "<style scoped>\n",
       "    .dataframe tbody tr th:only-of-type {\n",
       "        vertical-align: middle;\n",
       "    }\n",
       "\n",
       "    .dataframe tbody tr th {\n",
       "        vertical-align: top;\n",
       "    }\n",
       "\n",
       "    .dataframe thead th {\n",
       "        text-align: right;\n",
       "    }\n",
       "</style>\n",
       "<table border=\"1\" class=\"dataframe\">\n",
       "  <thead>\n",
       "    <tr style=\"text-align: right;\">\n",
       "      <th></th>\n",
       "      <th>duration_sec</th>\n",
       "      <th>start_station_id</th>\n",
       "      <th>start_station_latitude</th>\n",
       "      <th>start_station_longitude</th>\n",
       "      <th>end_station_id</th>\n",
       "      <th>end_station_latitude</th>\n",
       "      <th>end_station_longitude</th>\n",
       "      <th>bike_id</th>\n",
       "    </tr>\n",
       "  </thead>\n",
       "  <tbody>\n",
       "    <tr>\n",
       "      <th>count</th>\n",
       "      <td>192082.000000</td>\n",
       "      <td>191834.000000</td>\n",
       "      <td>192082.000000</td>\n",
       "      <td>192082.000000</td>\n",
       "      <td>191834.000000</td>\n",
       "      <td>192082.000000</td>\n",
       "      <td>192082.000000</td>\n",
       "      <td>192082.000000</td>\n",
       "    </tr>\n",
       "    <tr>\n",
       "      <th>mean</th>\n",
       "      <td>750.952473</td>\n",
       "      <td>132.841639</td>\n",
       "      <td>37.773438</td>\n",
       "      <td>-122.357820</td>\n",
       "      <td>131.218700</td>\n",
       "      <td>37.773570</td>\n",
       "      <td>-122.357419</td>\n",
       "      <td>4029.012609</td>\n",
       "    </tr>\n",
       "    <tr>\n",
       "      <th>std</th>\n",
       "      <td>1672.433843</td>\n",
       "      <td>109.662417</td>\n",
       "      <td>0.091433</td>\n",
       "      <td>0.109472</td>\n",
       "      <td>109.546275</td>\n",
       "      <td>0.091332</td>\n",
       "      <td>0.109058</td>\n",
       "      <td>1571.288901</td>\n",
       "    </tr>\n",
       "    <tr>\n",
       "      <th>min</th>\n",
       "      <td>61.000000</td>\n",
       "      <td>3.000000</td>\n",
       "      <td>37.317298</td>\n",
       "      <td>-122.453704</td>\n",
       "      <td>3.000000</td>\n",
       "      <td>37.317298</td>\n",
       "      <td>-122.453704</td>\n",
       "      <td>11.000000</td>\n",
       "    </tr>\n",
       "    <tr>\n",
       "      <th>25%</th>\n",
       "      <td>333.000000</td>\n",
       "      <td>43.000000</td>\n",
       "      <td>37.770407</td>\n",
       "      <td>-122.412408</td>\n",
       "      <td>41.000000</td>\n",
       "      <td>37.771058</td>\n",
       "      <td>-122.411726</td>\n",
       "      <td>3088.000000</td>\n",
       "    </tr>\n",
       "    <tr>\n",
       "      <th>50%</th>\n",
       "      <td>528.000000</td>\n",
       "      <td>98.000000</td>\n",
       "      <td>37.780955</td>\n",
       "      <td>-122.398438</td>\n",
       "      <td>95.000000</td>\n",
       "      <td>37.781010</td>\n",
       "      <td>-122.398436</td>\n",
       "      <td>4748.000000</td>\n",
       "    </tr>\n",
       "    <tr>\n",
       "      <th>75%</th>\n",
       "      <td>821.000000</td>\n",
       "      <td>211.000000</td>\n",
       "      <td>37.795913</td>\n",
       "      <td>-122.294837</td>\n",
       "      <td>203.000000</td>\n",
       "      <td>37.796248</td>\n",
       "      <td>-122.294837</td>\n",
       "      <td>5173.000000</td>\n",
       "    </tr>\n",
       "    <tr>\n",
       "      <th>max</th>\n",
       "      <td>84002.000000</td>\n",
       "      <td>385.000000</td>\n",
       "      <td>37.880222</td>\n",
       "      <td>-121.874119</td>\n",
       "      <td>385.000000</td>\n",
       "      <td>37.880222</td>\n",
       "      <td>-121.874119</td>\n",
       "      <td>6638.000000</td>\n",
       "    </tr>\n",
       "  </tbody>\n",
       "</table>\n",
       "</div>"
      ],
      "text/plain": [
       "        duration_sec  start_station_id  start_station_latitude  \\\n",
       "count  192082.000000     191834.000000           192082.000000   \n",
       "mean      750.952473        132.841639               37.773438   \n",
       "std      1672.433843        109.662417                0.091433   \n",
       "min        61.000000          3.000000               37.317298   \n",
       "25%       333.000000         43.000000               37.770407   \n",
       "50%       528.000000         98.000000               37.780955   \n",
       "75%       821.000000        211.000000               37.795913   \n",
       "max     84002.000000        385.000000               37.880222   \n",
       "\n",
       "       start_station_longitude  end_station_id  end_station_latitude  \\\n",
       "count            192082.000000   191834.000000         192082.000000   \n",
       "mean               -122.357820      131.218700             37.773570   \n",
       "std                   0.109472      109.546275              0.091332   \n",
       "min                -122.453704        3.000000             37.317298   \n",
       "25%                -122.412408       41.000000             37.771058   \n",
       "50%                -122.398438       95.000000             37.781010   \n",
       "75%                -122.294837      203.000000             37.796248   \n",
       "max                -121.874119      385.000000             37.880222   \n",
       "\n",
       "       end_station_longitude        bike_id  \n",
       "count          192082.000000  192082.000000  \n",
       "mean             -122.357419    4029.012609  \n",
       "std                 0.109058    1571.288901  \n",
       "min              -122.453704      11.000000  \n",
       "25%              -122.411726    3088.000000  \n",
       "50%              -122.398436    4748.000000  \n",
       "75%              -122.294837    5173.000000  \n",
       "max              -121.874119    6638.000000  "
      ]
     },
     "execution_count": 6,
     "metadata": {},
     "output_type": "execute_result"
    }
   ],
   "source": [
    "df.describe()"
   ]
  },
  {
   "cell_type": "markdown",
   "metadata": {},
   "source": [
    "## Clean the data:"
   ]
  },
  {
   "cell_type": "markdown",
   "metadata": {},
   "source": [
    "### Drop All Rows with any Null/NaN/NaT Values"
   ]
  },
  {
   "cell_type": "code",
   "execution_count": 7,
   "metadata": {},
   "outputs": [],
   "source": [
    "df = df.dropna()"
   ]
  },
  {
   "cell_type": "code",
   "execution_count": 8,
   "metadata": {},
   "outputs": [
    {
     "name": "stdout",
     "output_type": "stream",
     "text": [
      "<class 'pandas.core.frame.DataFrame'>\n",
      "Int64Index: 191834 entries, 0 to 192081\n",
      "Data columns (total 14 columns):\n",
      " #   Column                   Non-Null Count   Dtype  \n",
      "---  ------                   --------------   -----  \n",
      " 0   duration_sec             191834 non-null  int64  \n",
      " 1   start_time               191834 non-null  object \n",
      " 2   end_time                 191834 non-null  object \n",
      " 3   start_station_id         191834 non-null  float64\n",
      " 4   start_station_name       191834 non-null  object \n",
      " 5   start_station_latitude   191834 non-null  float64\n",
      " 6   start_station_longitude  191834 non-null  float64\n",
      " 7   end_station_id           191834 non-null  float64\n",
      " 8   end_station_name         191834 non-null  object \n",
      " 9   end_station_latitude     191834 non-null  float64\n",
      " 10  end_station_longitude    191834 non-null  float64\n",
      " 11  bike_id                  191834 non-null  int64  \n",
      " 12  user_type                191834 non-null  object \n",
      " 13  bike_share_for_all_trip  191834 non-null  object \n",
      "dtypes: float64(6), int64(2), object(6)\n",
      "memory usage: 22.0+ MB\n"
     ]
    }
   ],
   "source": [
    "df.info()\n",
    "\n"
   ]
  },
  {
   "cell_type": "markdown",
   "metadata": {},
   "source": [
    "### 1/convert start_time and end_time to datatime .\n",
    "### 2/ convert start_station and end_station to string."
   ]
  },
  {
   "cell_type": "code",
   "execution_count": 9,
   "metadata": {},
   "outputs": [],
   "source": [
    "df.start_time = pd.to_datetime(df.start_time)\n",
    "df.end_time = pd.to_datetime(df.end_time)\n",
    "df.start_station_id = df.start_station_id.astype(str)\n",
    "df.end_station_id = df.end_station_id.astype(str)"
   ]
  },
  {
   "cell_type": "markdown",
   "metadata": {},
   "source": [
    "### creat two colume one for the day and one for the hours"
   ]
  },
  {
   "cell_type": "code",
   "execution_count": 10,
   "metadata": {},
   "outputs": [],
   "source": [
    "\n",
    "df['trip_day'] = df.start_time.dt.strftime('%a')\n",
    "df['trip_hour'] = df.start_time.dt.strftime('%H')"
   ]
  },
  {
   "cell_type": "code",
   "execution_count": 31,
   "metadata": {},
   "outputs": [],
   "source": [
    "df['trip_duration'] = df.start_time - df.end_time "
   ]
  },
  {
   "cell_type": "code",
   "execution_count": 32,
   "metadata": {},
   "outputs": [
    {
     "name": "stdout",
     "output_type": "stream",
     "text": [
      "<class 'pandas.core.frame.DataFrame'>\n",
      "Int64Index: 191834 entries, 0 to 192081\n",
      "Data columns (total 17 columns):\n",
      " #   Column                   Non-Null Count   Dtype          \n",
      "---  ------                   --------------   -----          \n",
      " 0   duration_sec             191834 non-null  int64          \n",
      " 1   start_time               191834 non-null  datetime64[ns] \n",
      " 2   end_time                 191834 non-null  datetime64[ns] \n",
      " 3   start_station_id         191834 non-null  object         \n",
      " 4   start_station_name       191834 non-null  object         \n",
      " 5   start_station_latitude   191834 non-null  float64        \n",
      " 6   start_station_longitude  191834 non-null  float64        \n",
      " 7   end_station_id           191834 non-null  object         \n",
      " 8   end_station_name         191834 non-null  object         \n",
      " 9   end_station_latitude     191834 non-null  float64        \n",
      " 10  end_station_longitude    191834 non-null  float64        \n",
      " 11  bike_id                  191834 non-null  int64          \n",
      " 12  user_type                191834 non-null  object         \n",
      " 13  bike_share_for_all_trip  191834 non-null  object         \n",
      " 14  trip_day                 191834 non-null  object         \n",
      " 15  trip_hour                191834 non-null  object         \n",
      " 16  trip_duration            191834 non-null  timedelta64[ns]\n",
      "dtypes: datetime64[ns](2), float64(4), int64(2), object(8), timedelta64[ns](1)\n",
      "memory usage: 31.3+ MB\n"
     ]
    }
   ],
   "source": [
    "df.info()"
   ]
  },
  {
   "cell_type": "code",
   "execution_count": 33,
   "metadata": {},
   "outputs": [
    {
     "data": {
      "text/html": [
       "<div>\n",
       "<style scoped>\n",
       "    .dataframe tbody tr th:only-of-type {\n",
       "        vertical-align: middle;\n",
       "    }\n",
       "\n",
       "    .dataframe tbody tr th {\n",
       "        vertical-align: top;\n",
       "    }\n",
       "\n",
       "    .dataframe thead th {\n",
       "        text-align: right;\n",
       "    }\n",
       "</style>\n",
       "<table border=\"1\" class=\"dataframe\">\n",
       "  <thead>\n",
       "    <tr style=\"text-align: right;\">\n",
       "      <th></th>\n",
       "      <th>duration_sec</th>\n",
       "      <th>start_time</th>\n",
       "      <th>end_time</th>\n",
       "      <th>start_station_id</th>\n",
       "      <th>start_station_name</th>\n",
       "      <th>start_station_latitude</th>\n",
       "      <th>start_station_longitude</th>\n",
       "      <th>end_station_id</th>\n",
       "      <th>end_station_name</th>\n",
       "      <th>end_station_latitude</th>\n",
       "      <th>end_station_longitude</th>\n",
       "      <th>bike_id</th>\n",
       "      <th>user_type</th>\n",
       "      <th>bike_share_for_all_trip</th>\n",
       "      <th>trip_day</th>\n",
       "      <th>trip_hour</th>\n",
       "      <th>trip_duration</th>\n",
       "    </tr>\n",
       "  </thead>\n",
       "  <tbody>\n",
       "    <tr>\n",
       "      <th>0</th>\n",
       "      <td>80825</td>\n",
       "      <td>2019-01-31 17:57:44.613</td>\n",
       "      <td>2019-02-01 16:24:49.864</td>\n",
       "      <td>229.0</td>\n",
       "      <td>Foothill Blvd at 42nd Ave</td>\n",
       "      <td>37.775745</td>\n",
       "      <td>-122.213037</td>\n",
       "      <td>196.0</td>\n",
       "      <td>Grand Ave at Perkins St</td>\n",
       "      <td>37.808894</td>\n",
       "      <td>-122.256460</td>\n",
       "      <td>4861</td>\n",
       "      <td>Subscriber</td>\n",
       "      <td>No</td>\n",
       "      <td>Thu</td>\n",
       "      <td>17</td>\n",
       "      <td>-1 days +01:32:54.749000</td>\n",
       "    </tr>\n",
       "    <tr>\n",
       "      <th>1</th>\n",
       "      <td>65900</td>\n",
       "      <td>2019-01-31 20:58:33.886</td>\n",
       "      <td>2019-02-01 15:16:54.173</td>\n",
       "      <td>4.0</td>\n",
       "      <td>Cyril Magnin St at Ellis St</td>\n",
       "      <td>37.785881</td>\n",
       "      <td>-122.408915</td>\n",
       "      <td>134.0</td>\n",
       "      <td>Valencia St at 24th St</td>\n",
       "      <td>37.752428</td>\n",
       "      <td>-122.420628</td>\n",
       "      <td>5506</td>\n",
       "      <td>Subscriber</td>\n",
       "      <td>No</td>\n",
       "      <td>Thu</td>\n",
       "      <td>20</td>\n",
       "      <td>-1 days +05:41:39.713000</td>\n",
       "    </tr>\n",
       "    <tr>\n",
       "      <th>2</th>\n",
       "      <td>62633</td>\n",
       "      <td>2019-01-31 18:06:52.924</td>\n",
       "      <td>2019-02-01 11:30:46.530</td>\n",
       "      <td>245.0</td>\n",
       "      <td>Downtown Berkeley BART</td>\n",
       "      <td>37.870139</td>\n",
       "      <td>-122.268422</td>\n",
       "      <td>157.0</td>\n",
       "      <td>65th St at Hollis St</td>\n",
       "      <td>37.846784</td>\n",
       "      <td>-122.291376</td>\n",
       "      <td>2717</td>\n",
       "      <td>Customer</td>\n",
       "      <td>No</td>\n",
       "      <td>Thu</td>\n",
       "      <td>18</td>\n",
       "      <td>-1 days +06:36:06.394000</td>\n",
       "    </tr>\n",
       "    <tr>\n",
       "      <th>3</th>\n",
       "      <td>44680</td>\n",
       "      <td>2019-01-31 19:46:09.719</td>\n",
       "      <td>2019-02-01 08:10:50.318</td>\n",
       "      <td>85.0</td>\n",
       "      <td>Church St at Duboce Ave</td>\n",
       "      <td>37.770083</td>\n",
       "      <td>-122.429156</td>\n",
       "      <td>53.0</td>\n",
       "      <td>Grove St at Divisadero</td>\n",
       "      <td>37.775946</td>\n",
       "      <td>-122.437777</td>\n",
       "      <td>4557</td>\n",
       "      <td>Customer</td>\n",
       "      <td>No</td>\n",
       "      <td>Thu</td>\n",
       "      <td>19</td>\n",
       "      <td>-1 days +11:35:19.401000</td>\n",
       "    </tr>\n",
       "    <tr>\n",
       "      <th>4</th>\n",
       "      <td>60709</td>\n",
       "      <td>2019-01-31 14:19:01.541</td>\n",
       "      <td>2019-02-01 07:10:51.065</td>\n",
       "      <td>16.0</td>\n",
       "      <td>Steuart St at Market St</td>\n",
       "      <td>37.794130</td>\n",
       "      <td>-122.394430</td>\n",
       "      <td>28.0</td>\n",
       "      <td>The Embarcadero at Bryant St</td>\n",
       "      <td>37.787168</td>\n",
       "      <td>-122.388098</td>\n",
       "      <td>2100</td>\n",
       "      <td>Customer</td>\n",
       "      <td>No</td>\n",
       "      <td>Thu</td>\n",
       "      <td>14</td>\n",
       "      <td>-1 days +07:08:10.476000</td>\n",
       "    </tr>\n",
       "  </tbody>\n",
       "</table>\n",
       "</div>"
      ],
      "text/plain": [
       "   duration_sec              start_time                end_time  \\\n",
       "0         80825 2019-01-31 17:57:44.613 2019-02-01 16:24:49.864   \n",
       "1         65900 2019-01-31 20:58:33.886 2019-02-01 15:16:54.173   \n",
       "2         62633 2019-01-31 18:06:52.924 2019-02-01 11:30:46.530   \n",
       "3         44680 2019-01-31 19:46:09.719 2019-02-01 08:10:50.318   \n",
       "4         60709 2019-01-31 14:19:01.541 2019-02-01 07:10:51.065   \n",
       "\n",
       "  start_station_id           start_station_name  start_station_latitude  \\\n",
       "0            229.0    Foothill Blvd at 42nd Ave               37.775745   \n",
       "1              4.0  Cyril Magnin St at Ellis St               37.785881   \n",
       "2            245.0       Downtown Berkeley BART               37.870139   \n",
       "3             85.0      Church St at Duboce Ave               37.770083   \n",
       "4             16.0      Steuart St at Market St               37.794130   \n",
       "\n",
       "   start_station_longitude end_station_id              end_station_name  \\\n",
       "0              -122.213037          196.0       Grand Ave at Perkins St   \n",
       "1              -122.408915          134.0        Valencia St at 24th St   \n",
       "2              -122.268422          157.0          65th St at Hollis St   \n",
       "3              -122.429156           53.0        Grove St at Divisadero   \n",
       "4              -122.394430           28.0  The Embarcadero at Bryant St   \n",
       "\n",
       "   end_station_latitude  end_station_longitude  bike_id   user_type  \\\n",
       "0             37.808894            -122.256460     4861  Subscriber   \n",
       "1             37.752428            -122.420628     5506  Subscriber   \n",
       "2             37.846784            -122.291376     2717    Customer   \n",
       "3             37.775946            -122.437777     4557    Customer   \n",
       "4             37.787168            -122.388098     2100    Customer   \n",
       "\n",
       "  bike_share_for_all_trip trip_day trip_hour            trip_duration  \n",
       "0                      No      Thu        17 -1 days +01:32:54.749000  \n",
       "1                      No      Thu        20 -1 days +05:41:39.713000  \n",
       "2                      No      Thu        18 -1 days +06:36:06.394000  \n",
       "3                      No      Thu        19 -1 days +11:35:19.401000  \n",
       "4                      No      Thu        14 -1 days +07:08:10.476000  "
      ]
     },
     "execution_count": 33,
     "metadata": {},
     "output_type": "execute_result"
    }
   ],
   "source": [
    "df.head()"
   ]
  },
  {
   "cell_type": "markdown",
   "metadata": {},
   "source": [
    "## Visualisation "
   ]
  },
  {
   "cell_type": "markdown",
   "metadata": {},
   "source": [
    "\n",
    "### Univariate Exploration:"
   ]
  },
  {
   "cell_type": "markdown",
   "metadata": {},
   "source": [
    "## 1/ what the most day that people use a bike?"
   ]
  },
  {
   "cell_type": "code",
   "execution_count": 22,
   "metadata": {},
   "outputs": [
    {
     "data": {
      "image/png": "[encoded data removed]",
      "text/plain": [
       "<Figure size 432x288 with 1 Axes>"
      ]
     },
     "metadata": {
      "needs_background": "light"
     },
     "output_type": "display_data"
    }
   ],
   "source": [
    "sns.countplot(data=df, x='trip_day', color=sns.color_palette()[0]);\n",
    "plt.xlabel('Day of the trip')\n",
    "plt.title('Number of trip in  Days');"
   ]
  },
  {
   "cell_type": "markdown",
   "metadata": {},
   "source": [
    "##### Looking for the above graph we can see that people use the bike in workdays more than weekend days. In addition, the most day that people go for a ride is Thursday and Wednesday.\n"
   ]
  },
  {
   "cell_type": "markdown",
   "metadata": {},
   "source": [
    "## 2/ What is the start time that people pick the bike ?"
   ]
  },
  {
   "cell_type": "code",
   "execution_count": 34,
   "metadata": {},
   "outputs": [
    {
     "data": {
      "image/png": "[encoded data removed]",
      "text/plain": [
       "<Figure size 432x288 with 1 Axes>"
      ]
     },
     "metadata": {
      "needs_background": "light"
     },
     "output_type": "display_data"
    }
   ],
   "source": [
    "sns.countplot(data=df, x='trip_hour', color=sns.color_palette()[0]);\n",
    "plt.xlabel('start time of the ride')\n",
    "plt.title('start time of trip ');"
   ]
  },
  {
   "cell_type": "markdown",
   "metadata": {},
   "source": [
    "##### Looking for the above graph we can see that people use to pike the bike at 8:00 am, in the morning or pick the pick at 5:00 pm, in the evening. It seems that people usually choose the bike going to jobs and then pick the bike to go back home.\n"
   ]
  },
  {
   "cell_type": "markdown",
   "metadata": {},
   "source": [
    "### Bivariate Exploration:\n"
   ]
  },
  {
   "cell_type": "markdown",
   "metadata": {},
   "source": [
    "## 3/ which days people use the bike for a long time?"
   ]
  },
  {
   "cell_type": "code",
   "execution_count": 39,
   "metadata": {},
   "outputs": [
    {
     "data": {
      "text/plain": [
       "Text(0, 0.5, 'Avg. Duration (s)')"
      ]
     },
     "execution_count": 39,
     "metadata": {},
     "output_type": "execute_result"
    },
    {
     "data": {
      "image/png": "[encoded data removed]",
      "text/plain": [
       "<Figure size 1080x360 with 1 Axes>"
      ]
     },
     "metadata": {
      "needs_background": "light"
     },
     "output_type": "display_data"
    }
   ],
   "source": [
    "plt.figure(figsize = [15,5])\n",
    "plt.subplot(1, 2, 1)\n",
    "sns.pointplot(data=df, x='trip_day', y='duration_sec', errwidth=0)\n",
    "plt.title('Average Duration vs. trip_day')\n",
    "plt.xlabel('trip_day')\n",
    "plt.ylabel('Avg. Duration (s)')\n"
   ]
  },
  {
   "cell_type": "markdown",
   "metadata": {},
   "source": [
    "#### Looking at the duration in the second and the day, it seems that at the weekend people use the bike in a long time than the other days."
   ]
  },
  {
   "cell_type": "markdown",
   "metadata": {},
   "source": [
    "## 4/The top 5 station that is more people get the bike to go for a ride?"
   ]
  },
  {
   "cell_type": "code",
   "execution_count": 18,
   "metadata": {},
   "outputs": [
    {
     "data": {
      "image/png": "[encoded data removed]",
      "text/plain": [
       "<Figure size 432x288 with 1 Axes>"
      ]
     },
     "metadata": {
      "needs_background": "light"
     },
     "output_type": "display_data"
    }
   ],
   "source": [
    "top_names = df.start_station_name.value_counts()[1:6].sort_values()\n",
    "top_names.plot(kind = 'barh', color='blue')\n",
    "plt.title('Top 5 starting point for the trips')\n",
    "plt.xlabel('Count')\n",
    "plt.ylabel('Name');"
   ]
  },
  {
   "cell_type": "markdown",
   "metadata": {},
   "source": [
    "#### The graph shows the top 5 stations that people go to pick the bike. The best station was  San Francisco Caltrain Station 2. The fourth station shows in the graph have the same count of trips."
   ]
  },
  {
   "cell_type": "markdown",
   "metadata": {},
   "source": [
    "### Multivariate Exploration:\n"
   ]
  },
  {
   "cell_type": "markdown",
   "metadata": {},
   "source": [
    "## 5/looking for the customer and Subscriber which one of these two types will use the bike more frequency?"
   ]
  },
  {
   "cell_type": "code",
   "execution_count": 16,
   "metadata": {},
   "outputs": [
    {
     "data": {
      "text/plain": [
       "<matplotlib.legend.Legend at 0x7fbb65b43a50>"
      ]
     },
     "execution_count": 16,
     "metadata": {},
     "output_type": "execute_result"
    },
    {
     "data": {
      "image/png": "[encoded data removed]",
      "text/plain": [
       "<Figure size 1080x360 with 1 Axes>"
      ]
     },
     "metadata": {
      "needs_background": "light"
     },
     "output_type": "display_data"
    }
   ],
   "source": [
    "plt.figure(figsize = [15,5])\n",
    "plt.subplot(1, 2, 1)\n",
    "sns.pointplot(data=df, x='trip_day', y='duration_sec', hue='user_type', errwidth=0)\n",
    "plt.title('Average Duration vs. trip_day')\n",
    "plt.xlabel('trip_day')\n",
    "plt.ylabel('Avg. Duration (s)')\n",
    "plt.legend(title='User Type')"
   ]
  },
  {
   "cell_type": "markdown",
   "metadata": {},
   "source": [
    "#### It clear that the customer uses the bike more than people who have a subscriber. Also, we can conclude that the average duration of the rides is higher in customer than who have a subscriber."
   ]
  },
  {
   "cell_type": "markdown",
   "metadata": {},
   "source": [
    "## Summary:"
   ]
  },
  {
   "cell_type": "markdown",
   "metadata": {},
   "source": [
    "In conclusion, we can see that people use the bike in workdays more than weekend days. Besides, the most day that people go for a ride is Thursday and Wednesday. Also, it seems that at the weekend people use the bike in a long time than the other days. It clear that the customer uses the bike more than people who have a subscriber. Also, we can conclude that the average duration of the rides is higher in customer than who have a subscriber. finally The best station was San Francisco Caltrain Station 2.\n"
   ]
  },
  {
   "cell_type": "code",
   "execution_count": null,
   "metadata": {},
   "outputs": [],
   "source": []
  }
 ],
 "metadata": {
  "kernelspec": {
   "display_name": "Python 3",
   "language": "python",
   "name": "python3"
  },
  "language_info": {
   "codemirror_mode": {
    "name": "ipython",
    "version": 3
   },
   "file_extension": ".py",
   "mimetype": "text/x-python",
   "name": "python",
   "nbconvert_exporter": "python",
   "pygments_lexer": "ipython3",
   "version": "3.7.6"
  }
 },
 "nbformat": 4,
 "nbformat_minor": 4
}
